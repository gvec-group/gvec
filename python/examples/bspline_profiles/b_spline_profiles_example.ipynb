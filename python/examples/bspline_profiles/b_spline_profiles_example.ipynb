{
 "cells": [
  {
   "cell_type": "markdown",
   "metadata": {},
   "source": [
    "# `pygvec` example for using B-spline profiles for a tokamak\n",
    "\n",
    "This notebook re-uses the *gvecrun_tokamak* example to demonstrate how `pygvec` interfaces with the B-spline radial plasma profiles. The first three cells just provide some utility for running gvec in this notebook."
   ]
  },
  {
   "cell_type": "code",
   "execution_count": null,
   "metadata": {},
   "outputs": [],
   "source": [
    "import os\n",
    "from pathlib import Path\n",
    "import contextlib\n",
    "\n",
    "from scipy.interpolate import make_splrep\n",
    "import numpy as np\n",
    "import matplotlib.pyplot as plt\n",
    "\n",
    "# OMP number of threads for gvec run needs to be before import of gvec\n",
    "os.environ[\"OMP_NUM_THREADS\"] = \"2\"\n",
    "# needs `pip install` of gvec in virtual environment, and to be run in that environment!!!\n",
    "import gvec  # using run & modifying the parameters & postprocessing"
   ]
  },
  {
   "cell_type": "code",
   "execution_count": null,
   "metadata": {},
   "outputs": [],
   "source": [
    "@contextlib.contextmanager\n",
    "def chdir(path: Path | str):\n",
    "    \"\"\"\n",
    "    Contextmanager to change the current working directory.\n",
    "\n",
    "    Using a context has the benefit of automatically changing back to the original directory when the context is exited, even if an exception is raised.\n",
    "    \"\"\"\n",
    "    path = Path(path)\n",
    "    old_dir = Path(os.getcwd())\n",
    "\n",
    "    os.chdir(path)\n",
    "    yield\n",
    "    os.chdir(old_dir)"
   ]
  },
  {
   "cell_type": "code",
   "execution_count": null,
   "metadata": {},
   "outputs": [],
   "source": [
    "template = \"parameter.ini\"\n",
    "runpath = Path(f\"run_{1:02d}\")\n",
    "\n",
    "if not runpath.exists():\n",
    "    runpath.mkdir()\n",
    "    print(f\"created run directory {runpath}\")"
   ]
  },
  {
   "cell_type": "markdown",
   "metadata": {},
   "source": [
    "Now we want to interpolate some pressure profile shape and hand it over to `gvec`. First we define a simple profile parametrisation, a two-power profile:"
   ]
  },
  {
   "cell_type": "code",
   "execution_count": null,
   "metadata": {},
   "outputs": [],
   "source": [
    "def two_power(s, a=3, b=5):\n",
    "    return (1 - s**a) ** b\n",
    "\n",
    "\n",
    "# first derivative with respect to rho=sqrt(s)\n",
    "def two_power_dr(s, a=3, b=5):\n",
    "    return b * (1 - s**a) ** (b - 1) * (-a * s ** (a - 1)) * 2 * np.sqrt(s)\n",
    "\n",
    "\n",
    "# second derivative with respect to rho=sqrt(s)\n",
    "def two_power_drr(s, a=3, b=5):\n",
    "    return (\n",
    "        2\n",
    "        * a\n",
    "        * b\n",
    "        * s ** (a - 1)\n",
    "        * (1 - s**a) ** (b - 2)\n",
    "        * (2 * a * (b * s**a - 1) - s**a + 1)\n",
    "    )\n",
    "\n",
    "\n",
    "x_tp = np.linspace(0, 1, 51)\n",
    "y_tp = two_power(x_tp)\n",
    "\n",
    "x_plot = np.linspace(0, 1, 100)\n",
    "y_plot = two_power(x_plot)\n",
    "\n",
    "fig, ax = plt.subplots()\n",
    "ax.plot(x_plot, y_plot, label=\"two power profile\")\n",
    "ax.plot(x_tp, y_tp, \".\", label=\"interpolation points\")\n",
    "ax.set_xlabel(r\"s = $\\frac{\\phi}{\\phi_{norm}}$\")\n",
    "ax.set_ylabel(r\"$P/P_0$\")\n",
    "plt.legend()"
   ]
  },
  {
   "cell_type": "markdown",
   "metadata": {},
   "source": [
    "Next, we interpolate the profile with B-splines using `scipy`. "
   ]
  },
  {
   "cell_type": "code",
   "execution_count": null,
   "metadata": {},
   "outputs": [],
   "source": [
    "bspl = make_splrep(x_tp, y_tp, k=5)\n",
    "y_bspl = bspl(x_plot)\n",
    "\n",
    "fig, ax = plt.subplots()\n",
    "ax.plot(x_plot, y_plot, label=\"two power profile\")\n",
    "ax.plot(x_tp, y_tp, \".\", label=\"interpolation points\")\n",
    "ax.plot(x_plot, y_bspl, \"r--\", label=\"scipy B-Spline fit\")\n",
    "ax.set_xlabel(r\"s = $\\frac{\\phi}{\\phi_{norm}}$\")\n",
    "ax.set_ylabel(r\"$P/P_0$\")\n",
    "plt.legend()"
   ]
  },
  {
   "cell_type": "markdown",
   "metadata": {},
   "source": [
    "Now we want to adapt an existing parameter file with some changed values and our B-spline fit of the two-power pressure profile:"
   ]
  },
  {
   "cell_type": "code",
   "execution_count": null,
   "metadata": {},
   "outputs": [],
   "source": [
    "params = {}\n",
    "iota_coefs = [0.523, 0.625]  # a0*s + a1\n",
    "\n",
    "# This profile uses the default polynomial representation\n",
    "params[\"iota_coefs\"] = gvec.util.np2gvec(iota_coefs)  # c_0 + c_1*s +c_2*s^2+ ...\n",
    "params[\"sgrid_nElems\"] = 5\n",
    "params[\"pres_scale\"] = 1500\n",
    "params[\"maxiter\"] = 1000\n",
    "params"
   ]
  },
  {
   "cell_type": "markdown",
   "metadata": {},
   "source": [
    "To translate a `scipy` B-spline into input parameters as used by `gvec` we can call `gvec.util.scipy_bspl2gvec`."
   ]
  },
  {
   "cell_type": "code",
   "execution_count": null,
   "metadata": {},
   "outputs": [],
   "source": [
    "params = gvec.util.scipy_bspl2gvec(\n",
    "    \"pres\", bspl, params=params\n",
    ")  # handing over the params dict extends it\n",
    "params"
   ]
  },
  {
   "cell_type": "markdown",
   "metadata": {},
   "source": [
    "Alternatively we could just hand over the knots and coefficients to `gvec.util.bspl2gvec`, if, for example, we used an alternative fitting routine."
   ]
  },
  {
   "cell_type": "code",
   "execution_count": null,
   "metadata": {},
   "outputs": [],
   "source": [
    "params = gvec.util.bspl2gvec(\"pres\", knots=bspl.t, coefs=bspl.c, params=params)\n",
    "params"
   ]
  },
  {
   "cell_type": "markdown",
   "metadata": {},
   "source": [
    "With the new parameters we can thus run `gvec` and evaluate the profile and its derivatives with respect to $\\rho=\\sqrt{s}$."
   ]
  },
  {
   "cell_type": "code",
   "execution_count": null,
   "metadata": {},
   "outputs": [],
   "source": [
    "gvec.util.adapt_parameter_file(template, runpath / \"parameter.ini\", **params)"
   ]
  },
  {
   "cell_type": "code",
   "execution_count": null,
   "metadata": {},
   "outputs": [],
   "source": [
    "with chdir(runpath):\n",
    "    gvec.run(\"parameter.ini\", stdout_path=\"stdout.txt\")"
   ]
  },
  {
   "cell_type": "code",
   "execution_count": null,
   "metadata": {},
   "outputs": [],
   "source": [
    "statefile = sorted(runpath.glob(\"*State*.dat\"))[-1]\n",
    "with gvec.State(runpath / \"parameter.ini\", statefile) as state:\n",
    "    rho = np.linspace(0, 1, 100)  # radial visualization points\n",
    "    p = state.evaluate_profile(\"p\", rho=rho)\n",
    "    dp_dr = state.evaluate_profile_deriv(\"p\", rho=rho, order=1)\n",
    "    dp_drr = state.evaluate_profile_deriv(\"p\", rho=rho, order=2)"
   ]
  },
  {
   "cell_type": "code",
   "execution_count": null,
   "metadata": {},
   "outputs": [],
   "source": [
    "fig, ax = plt.subplots()\n",
    "ax.plot(x_plot, y_plot, label=\"two power profile\")\n",
    "ax.plot(x_tp, y_tp, \".\", label=\"interpolation points\")\n",
    "ax.plot(\n",
    "    rho**2, p / p[0], \"r--\", label=\"gvec B-spline\"\n",
    ")  # note that the pressure profile is scaled with pres_scale\n",
    "ax.set_xlabel(r\"s = $\\frac{\\phi}{\\phi_{norm}}$\")\n",
    "ax.set_ylabel(r\"$P/P_0$\")\n",
    "plt.legend()"
   ]
  },
  {
   "cell_type": "code",
   "execution_count": null,
   "metadata": {},
   "outputs": [],
   "source": [
    "fig_dr, ax_dr = plt.subplots()\n",
    "ax_dr.plot(x_plot, two_power_dr(x_plot), label=\"two power profile\")\n",
    "ax_dr.plot(rho**2, dp_dr / p[0], \"r--\", label=\"gvec B-spline\")\n",
    "ax_dr.set_xlabel(r\"s = $\\frac{\\phi}{\\phi_{norm}}$\")\n",
    "ax_dr.set_ylabel(r\"$P'/P_0$\")\n",
    "plt.legend()\n",
    "\n",
    "fig_drr, ax_drr = plt.subplots()\n",
    "ax_drr.plot(x_plot, two_power_drr(x_plot), label=\"two power profile\")\n",
    "ax_drr.plot(rho**2, dp_drr / p[0], \"r--\", label=\"gvec B-spline\")\n",
    "ax_drr.set_xlabel(r\"s = $\\frac{\\phi}{\\phi_{norm}}$\")\n",
    "ax_drr.set_ylabel(r\"$P''/P_0$\")\n",
    "plt.legend()"
   ]
  }
 ],
 "metadata": {},
 "nbformat": 4,
 "nbformat_minor": 2
}
