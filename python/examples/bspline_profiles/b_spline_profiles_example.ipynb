{
 "cells": [
  {
   "cell_type": "markdown",
   "metadata": {},
   "source": [
    "# `pygvec` example for using B-spline profiles for a tokamak\n",
    "\n",
    "This notebook re-uses the *gvecrun_tokamak* example to demonstrate how `pygvec` interfaces with the B-spline radial plasma profiles. The first three cells just provide some utility for running gvec in this notebook."
   ]
  },
  {
   "cell_type": "code",
   "execution_count": 23,
   "metadata": {},
   "outputs": [],
   "source": [
    "import os\n",
    "from pathlib import Path\n",
    "import contextlib\n",
    "import shutil\n",
    "\n",
    "import numpy as np\n",
    "import matplotlib.pyplot as plt\n",
    "\n",
    "# OMP number of threads for gvec run needs to be before import of gvec\n",
    "os.environ[\"OMP_NUM_THREADS\"]=\"2\"\n",
    "# needs `pip install` of gvec in virtual environment, and to be run in that environment!!!\n",
    "import gvec  # using run & modifying the parameters & postprocessing"
   ]
  },
  {
   "cell_type": "code",
   "execution_count": 24,
   "metadata": {},
   "outputs": [],
   "source": [
    " @contextlib.contextmanager\n",
    "def chdir(path: Path | str):\n",
    "    \"\"\"\n",
    "    Contextmanager to change the current working directory.\n",
    "\n",
    "    Using a context has the benefit of automatically changing back to the original directory when the context is exited, even if an exception is raised.\n",
    "    \"\"\"\n",
    "    path = Path(path)\n",
    "    old_dir = Path(os.getcwd())\n",
    "\n",
    "    os.chdir(path)\n",
    "    yield\n",
    "    os.chdir(old_dir)"
   ]
  },
  {
   "cell_type": "code",
   "execution_count": 25,
   "metadata": {},
   "outputs": [],
   "source": [
    "template = \"parameter.ini\"\n",
    "runpath = Path(f\"run_{1:02d}\")\n",
    "\n",
    "if not runpath.exists():\n",
    "    runpath.mkdir()\n",
    "    print(f\"created run directory {runpath}\")"
   ]
  },
  {
   "cell_type": "markdown",
   "metadata": {},
   "source": [
    "Now we want to interpolate some pressure profile shape and hand it over to `gvec`. First we define a simple profile parametrisation, a two-power profile:"
   ]
  },
  {
   "cell_type": "code",
   "execution_count": null,
   "metadata": {},
   "outputs": [],
   "source": [
    "def two_power(s, a=3, b=5):\n",
    "    return (1-s**a)**b\n",
    "\n",
    "# first derivative with respect to rho=sqrt(s)\n",
    "def two_power_dr(s, a=3, b=5):\n",
    "    return b*(1-s**a)**(b-1)*(-a*s**(a-1))*2*np.sqrt(s)\n",
    "\n",
    "# second derivative with respect to rho=sqrt(s)\n",
    "def two_power_drr(s, a=3, b=5):\n",
    "    return 2*a*b*s**(a-1)*(1-s**a)**(b-2)*(2*a*(b*s**a-1)-s**a+1)\n",
    "\n",
    "x_tp = np.linspace(0,1,20)\n",
    "y_tp = two_power(x_tp)\n",
    "\n",
    "x_plot = np.linspace(0,1,100)\n",
    "y_plot = two_power(x_plot)\n",
    "\n",
    "fig, ax = plt.subplots()\n",
    "ax.plot(x_plot,y_plot,label=\"two power profile\")\n",
    "ax.plot(x_tp, y_tp, \"o\", label=\"interpolation points\")\n",
    "ax.set_xlabel(r\"s = $\\frac{\\phi}{\\phi_{norm}}$\")\n",
    "ax.set_ylabel(r\"$P/P_0$\")\n",
    "plt.legend()"
   ]
  },
  {
   "cell_type": "markdown",
   "metadata": {},
   "source": [
    "Now we want to adapt an existing parameter file with some changed values and this two-power pressure profile:"
   ]
  },
  {
   "cell_type": "code",
   "execution_count": null,
   "metadata": {},
   "outputs": [],
   "source": [
    "params= {}\n",
    "iota_coefs=[0.523,0.625]  # a0*s + a1\n",
    "\n",
    "# This profile uses the default polynomial representation\n",
    "params[\"iota_coefs\"] = gvec.util.np2gvec(iota_coefs) # c_0 + c_1*s +c_2*s^2+ ...\n",
    "params[\"sgrid_nElems\"] = 5\n",
    "params[\"pres_scale\"] = 1500\n",
    "params[\"maxiter\"] = 1000\n",
    "params"
   ]
  },
  {
   "cell_type": "markdown",
   "metadata": {},
   "source": [
    "By handing our defined interpolation points to `gvec.util.profile2bspl` we can generate the B-spline interpolation. Alternatively we coud just hand over the `two_power` callable, possibly with predefined s-interpolation points. Per default the interpolation is done using splines of degree 3 and 10 linearly spaced s-positions. "
   ]
  },
  {
   "cell_type": "code",
   "execution_count": null,
   "metadata": {},
   "outputs": [],
   "source": [
    "params = gvec.util.profile2bspline(\"pres\", y_tp, x_tp, params=params) # handing over the params dict extends it\n",
    "params"
   ]
  },
  {
   "cell_type": "markdown",
   "metadata": {},
   "source": [
    "These parameters can then be handed to `gvec.util.adapt_parameter_file` or we could directly provide the source and target file."
   ]
  },
  {
   "cell_type": "code",
   "execution_count": null,
   "metadata": {},
   "outputs": [],
   "source": [
    "params = gvec.util.profile2bspline(\"pres\", y_tp, x_tp, params=params, deg=4,\n",
    "                                   source=template, target=runpath / \"parameter.ini\")\n",
    "params"
   ]
  },
  {
   "cell_type": "markdown",
   "metadata": {},
   "source": [
    "With the new parameters we can thus run `gvec` and evaluate the profile and its derivatives with respect to $\\rho=\\sqrt{s}$."
   ]
  },
  {
   "cell_type": "code",
   "execution_count": 30,
   "metadata": {},
   "outputs": [],
   "source": [
    "gvec.util.adapt_parameter_file(template, runpath / \"parameter.ini\", **params)\n",
    "\n",
    "with chdir(runpath):\n",
    "    gvec.run(\"parameter.ini\", stdout_path=\"stdout.txt\")"
   ]
  },
  {
   "cell_type": "code",
   "execution_count": 31,
   "metadata": {},
   "outputs": [],
   "source": [
    "statefile = sorted(runpath.glob(\"*State*.dat\"))[-1]\n",
    "with gvec.State(runpath / \"parameter.ini\", statefile) as state:\n",
    "    rho = np.linspace(0, 1, 100)  # radial visualization points\n",
    "    p = state.evaluate_profile(\"p\",rho=rho)\n",
    "    dp_dr = state.evaluate_profile_deriv(\"p\",rho=rho, n=1)\n",
    "    dp_drr = state.evaluate_profile_deriv(\"p\",rho=rho, n=2)"
   ]
  },
  {
   "cell_type": "code",
   "execution_count": null,
   "metadata": {},
   "outputs": [],
   "source": [
    "fig, ax = plt.subplots()\n",
    "ax.plot(x_plot,y_plot,label=\"two power profile\")\n",
    "ax.plot(x_tp, y_tp, \"o\", label=\"interpolation points\")\n",
    "ax.plot(rho**2, p/p[0], \"r--\", label=\"gvec B-spline\") # note that the pressure profile is scaled with pres_scale\n",
    "ax.set_xlabel(r\"s = $\\frac{\\phi}{\\phi_{norm}}$\")\n",
    "ax.set_ylabel(r\"$P/P_0$\")\n",
    "plt.legend()"
   ]
  },
  {
   "cell_type": "code",
   "execution_count": null,
   "metadata": {},
   "outputs": [],
   "source": [
    "fig_dr, ax_dr = plt.subplots()\n",
    "ax_dr.plot(x_plot,two_power_dr(x_plot),label=\"two power profile\")\n",
    "ax_dr.plot(rho**2, dp_dr/p[0], \"r--\", label=\"gvec B-spline\") # note that the pressure profile is scaled with pres_scale\n",
    "ax_dr.set_xlabel(r\"s = $\\frac{\\phi}{\\phi_{norm}}$\")\n",
    "ax_dr.set_ylabel(r\"$P'/P_0$\")\n",
    "plt.legend()\n",
    "\n",
    "fig_drr, ax_drr = plt.subplots()\n",
    "ax_drr.plot(x_plot,two_power_drr(x_plot),label=\"two power profile\")\n",
    "ax_drr.plot(rho**2, dp_drr/p[0], \"r--\", label=\"gvec B-spline\") # note that the pressure profile is scaled with pres_scale\n",
    "ax_drr.set_xlabel(r\"s = $\\frac{\\phi}{\\phi_{norm}}$\")\n",
    "ax_drr.set_ylabel(r\"$P''/P_0$\")\n",
    "plt.legend()"
   ]
  }
 ],
 "metadata": {
  "kernelspec": {
   "display_name": "gvec_venv",
   "language": "python",
   "name": "python3"
  },
  "language_info": {
   "codemirror_mode": {
    "name": "ipython",
    "version": 3
   },
   "file_extension": ".py",
   "mimetype": "text/x-python",
   "name": "python",
   "nbconvert_exporter": "python",
   "pygments_lexer": "ipython3",
   "version": "3.12.3"
  }
 },
 "nbformat": 4,
 "nbformat_minor": 2
}
