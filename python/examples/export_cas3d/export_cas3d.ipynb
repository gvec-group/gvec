{
 "cells": [
  {
   "cell_type": "markdown",
   "metadata": {},
   "source": [
    "# pyGVEC output for CAS3D"
   ]
  },
  {
   "cell_type": "code",
   "execution_count": null,
   "metadata": {},
   "outputs": [],
   "source": [
    "from pathlib import Path\n",
    "import datetime\n",
    "\n",
    "import numpy as np\n",
    "import xarray as xr\n",
    "import matplotlib.pyplot as plt\n",
    "\n",
    "import gvec\n",
    "import gvec.fourier\n",
    "import gvec.surface"
   ]
  },
  {
   "cell_type": "code",
   "execution_count": null,
   "metadata": {},
   "outputs": [],
   "source": [
    "# run GVEC if not already done\n",
    "gvec.run(\"parameter.ini\")"
   ]
  },
  {
   "cell_type": "code",
   "execution_count": null,
   "metadata": {},
   "outputs": [],
   "source": [
    "parameterfile = Path(\"parameter.ini\")\n",
    "params = gvec.util.read_parameter_file(parameterfile)\n",
    "name = params[\"ProjectName\"]\n",
    "print(f\"Project name: {name}\")\n",
    "\n",
    "statefile = sorted(Path(\".\").glob(f\"{name}_State_*.dat\"))[-1]\n",
    "print(f\"Found statefile: {statefile}\")"
   ]
  },
  {
   "cell_type": "code",
   "execution_count": null,
   "metadata": {},
   "outputs": [],
   "source": [
    "n_rho = 20\n",
    "# radial_spacing = \"rho^2\"  # fixed!, linear spacing in rho^2\n",
    "angles = \"boozer\"  # or \"gvec\"\n",
    "MN_booz = 10, 10  # default: MN_out = MN_booz\n",
    "MN_out = 10, 10\n",
    "sampling = 8\n",
    "stellsym = False"
   ]
  },
  {
   "cell_type": "markdown",
   "metadata": {},
   "source": [
    "`gvec2cas3d ...`\n",
    "`gvec_to_cas3d --rho=20 --angle=boozer --MN-booz=\"10,10\" --MN-out=\"10,10\"`\n",
    "`gvec_to_cas3d --angle=boozer --MN-booz=\"10,10\" --MN-out=\"10,10\" --sampling=4`"
   ]
  },
  {
   "cell_type": "code",
   "execution_count": null,
   "metadata": {},
   "outputs": [],
   "source": [
    "with gvec.State(parameterfile, statefile) as state:\n",
    "    # Boozer transform\n",
    "    rho = np.sqrt(np.linspace(0, 1.0, n_rho))\n",
    "    rho[0] = 1e-4\n",
    "    ev = gvec.EvaluationsBoozer(\n",
    "        rho,\n",
    "        sampling * MN_out[0] + 1,\n",
    "        sampling * MN_out[1] + 1,\n",
    "        M=MN_booz[0],\n",
    "        N=MN_booz[1],\n",
    "        state=state,\n",
    "    )\n",
    "\n",
    "    # Surface reparametrization\n",
    "    state.compute(ev, \"N_FP\", \"pos\")\n",
    "    surf = gvec.surface.init_surface(ev.pos, ev.N_FP, ift=\"fft\")\n",
    "    q_surf = [\n",
    "        \"xhat\",\n",
    "        \"yhat\",\n",
    "        \"zhat\",\n",
    "        \"g_tt_B\",\n",
    "        \"g_tz_B\",\n",
    "        \"g_zz_B\",\n",
    "        \"II_tt_B\",\n",
    "        \"II_tz_B\",\n",
    "        \"II_zz_B\",\n",
    "        \"k_tt_B\",\n",
    "        \"normal\",\n",
    "    ]\n",
    "    gvec.surface.compute(surf, *q_surf)\n",
    "    surf = surf[q_surf]\n",
    "\n",
    "    # Quantities of interest (computed from equilibrium)\n",
    "    q_vol = [\n",
    "        \"N_FP\",\n",
    "        \"mod_B\",\n",
    "        \"B_contra_t_B\",\n",
    "        \"B_contra_z_B\",\n",
    "        \"B_theta_avg\",\n",
    "        \"B_zeta_avg\",\n",
    "        \"iota\",\n",
    "        \"p\",\n",
    "        \"Phi\",\n",
    "        \"Jac_B\",\n",
    "        \"X1\",\n",
    "        \"Jac_l\",\n",
    "        \"Jac_h\",\n",
    "    ]\n",
    "    state.compute(ev, *q_vol)\n",
    "    ev = ev[q_vol]\n",
    "\n",
    "    ds = xr.merge([ev, surf])"
   ]
  },
  {
   "cell_type": "code",
   "execution_count": null,
   "metadata": {},
   "outputs": [],
   "source": [
    "ft = gvec.comp.ev2ft(ds)\n",
    "ft = ft.where(\n",
    "    (ft.m <= MN_out[0]) & (-MN_out[1] <= ft.n) & (ft.n <= MN_out[1]), drop=True\n",
    ")\n",
    "# ft = gvec.fourier.ft_autoremove(ft)\n",
    "print(f\"dataset uses {ft.nbytes / 1024**2:.2f} MiB\")"
   ]
  },
  {
   "cell_type": "code",
   "execution_count": null,
   "metadata": {},
   "outputs": [],
   "source": [
    "ft.attrs[\"gvec_version\"] = gvec.__version__\n",
    "ft.attrs[\"creator\"] = \"gvec_to_cas3d\"\n",
    "ft.attrs[\"arguments\"] = repr(\n",
    "    dict(n_rho=n_rho, MN_booz=MN_booz, MN_out=MN_out, sampling=sampling, angles=angles)\n",
    ")\n",
    "ft.attrs[\"statefile\"] = statefile.name\n",
    "ft.attrs[\"state_name\"] = name\n",
    "ft.attrs[\"conversion_time\"] = (\n",
    "    datetime.datetime.now().astimezone().isoformat(timespec=\"seconds\")\n",
    ")\n",
    "ft.to_netcdf(f\"{name}_BoozFT.nc\")"
   ]
  },
  {
   "cell_type": "code",
   "execution_count": null,
   "metadata": {},
   "outputs": [],
   "source": [
    "print(sampling)\n",
    "np.abs(ft).max()"
   ]
  },
  {
   "cell_type": "code",
   "execution_count": null,
   "metadata": {},
   "outputs": [],
   "source": [
    "import tqdm\n",
    "import time\n",
    "\n",
    "with tqdm.tqdm(\n",
    "    total=10,\n",
    "    bar_format=\"{n_fmt}/{total_fmt} |{bar}| {desc}\",\n",
    "    desc=\"Progress\",\n",
    "    ascii=True,\n",
    ") as progress:\n",
    "    progress.update(0)\n",
    "    for _ in range(10):\n",
    "        time.sleep(0.1)\n",
    "    progress.update(1)\n",
    "    progress.set_postfix(dict(stage=\"Testing\"))\n",
    "    for _ in range(10):\n",
    "        time.sleep(0.1)\n",
    "    progress.update(1)\n",
    "    progress.update(1)"
   ]
  },
  {
   "cell_type": "code",
   "execution_count": null,
   "metadata": {},
   "outputs": [],
   "source": [
    "print(sampling)\n",
    "np.abs(ft).max()"
   ]
  },
  {
   "cell_type": "code",
   "execution_count": null,
   "metadata": {},
   "outputs": [],
   "source": [
    "print(sampling)\n",
    "np.abs(ft).max()"
   ]
  },
  {
   "cell_type": "code",
   "execution_count": null,
   "metadata": {},
   "outputs": [],
   "source": [
    "gvec.comp.ft_autoremove(ft, atol=1e-4)"
   ]
  },
  {
   "cell_type": "markdown",
   "metadata": {},
   "source": [
    "${g_{\\theta_B\\theta_B}}_{mn}^c$, `g_tt_booz` -> `g_tt_booz_mnc`"
   ]
  },
  {
   "cell_type": "markdown",
   "metadata": {},
   "source": [
    "# Visualize output & compare FT"
   ]
  },
  {
   "cell_type": "code",
   "execution_count": null,
   "metadata": {},
   "outputs": [],
   "source": [
    "from ipywidgets import interact, widgets"
   ]
  },
  {
   "cell_type": "code",
   "execution_count": null,
   "metadata": {},
   "outputs": [],
   "source": [
    "def plot_ds(fig, ax, ds, var, dots=True, mode=\"color\"):\n",
    "    if mode in [\"color\", \"both\"]:\n",
    "        pcm = ax.pcolormesh(ds.zeta_B, ds.theta_B, ds[var], shading=\"gouraud\")\n",
    "        fig.colorbar(pcm, ax=ax)\n",
    "    if mode == \"contour\":\n",
    "        cnt = ax.contour(ds.zeta_B, ds.theta_B, ds[var], 20)\n",
    "        fig.colorbar(cnt, ax=ax)\n",
    "    elif mode == \"both\":\n",
    "        ax.contour(ds.zeta_B, ds.theta_B, ds[var], 20, colors=\"k\", linewidths=0.5)\n",
    "\n",
    "    if dots:\n",
    "        t, z = np.meshgrid(ds.zeta_B, ds.theta_B)\n",
    "        ax.plot(t.flat, z.flat, \"k.\", ms=1)\n",
    "    ax.set(\n",
    "        title=f\"original ($n_\\\\theta={ds.theta_B.size}, n_\\\\zeta={ds.zeta_B.size}$)\",\n",
    "        xlabel=f\"${ds.zeta_B.attrs['symbol']}$\",\n",
    "        ylabel=f\"${ds.theta_B.attrs['symbol']}$\",\n",
    "    )"
   ]
  },
  {
   "cell_type": "code",
   "execution_count": null,
   "metadata": {},
   "outputs": [],
   "source": [
    "def plot_ft(fig, ax, ft, var, mode=\"color\", ift=\"fft\"):\n",
    "    nfp = ft.N_FP.item() if \"N_FP\" in ft else 1\n",
    "    t, z = (\n",
    "        np.linspace(0, 2 * np.pi, ft.m.max().item() * 2 + 1, endpoint=False),\n",
    "        np.linspace(0, 2 * np.pi / nfp, ft.n.max().item() * 2 + 1, endpoint=False),\n",
    "    )\n",
    "\n",
    "    varc = f\"{var}_mnc\"\n",
    "    vars = f\"{var}_mns\"\n",
    "    if varc in ft and vars in ft and ft[varc].dims != () and ft[vars].dims != ():\n",
    "        c, s = ft[varc].data, ft[vars].data\n",
    "    elif varc in ft and ft[varc].dims != ():\n",
    "        c, s = ft[varc].data, np.zeros_like(ft[varc].data)\n",
    "    elif vars in ft and ft[vars].dims != ():\n",
    "        c, s = np.zeros_like(ft[vars].data), ft[vars].data\n",
    "    else:\n",
    "        print(f\"no ft data for {var}\")\n",
    "        return\n",
    "\n",
    "    if ift == \"fft\":\n",
    "        data = gvec.fourier.ifft2d(c, s)\n",
    "    elif ift == \"eval\":\n",
    "        T, Z = np.meshgrid(t, z)\n",
    "        data = gvec.fourier.eval2d(c, s, T, Z, nfp=nfp).T\n",
    "    if mode == \"color\" or mode == \"both\":\n",
    "        pcm = ax.pcolormesh(z, t, data, shading=\"gouraud\")\n",
    "        fig.colorbar(pcm, ax=ax)\n",
    "    if mode == \"contour\":\n",
    "        cnt = ax.contour(z, t, data, 20)\n",
    "        fig.colorbar(cnt, ax=ax)\n",
    "    elif mode == \"both\":\n",
    "        cnt = ax.contour(z, t, data, 20, colors=\"k\", linewidths=0.5)\n",
    "    ax.set(\n",
    "        title=f\"Fourier transformed ($M={ft.m.max().item()}, N={ft.n.max().item()}$)\",\n",
    "        # ylabel=f\"${ds.theta_B.attrs['symbol']}$\",\n",
    "        xlabel=f\"${ds.zeta_B.attrs['symbol']}$\",\n",
    "    )"
   ]
  },
  {
   "cell_type": "code",
   "execution_count": null,
   "metadata": {},
   "outputs": [],
   "source": [
    "def plot(rho, var, dots, mode, ift):\n",
    "    fig, axs = plt.subplots(\n",
    "        1, 2, figsize=(10, 5), tight_layout=True, sharex=True, sharey=True\n",
    "    )\n",
    "    fig.suptitle(\n",
    "        f\"{var}: ${ds[var].attrs['symbol']}$\\n{ds[var].attrs['long_name']}\\nBoozer coordinates, one field period, $N_{{FP}}={ds['N_FP'].item()}$, $\\\\rho={rho:.3f}$\"\n",
    "    )\n",
    "    plot_ds(fig, axs[0], ds.sel(rho=rho), var, dots, mode)\n",
    "    plot_ft(fig, axs[1], ft.sel(rho=rho), var, mode, ift)\n",
    "\n",
    "\n",
    "interact(\n",
    "    plot,\n",
    "    rho=widgets.SelectionSlider(options=ds.rho.data),\n",
    "    var=[var for var in ds.data_vars if ds[var].dims == (\"rad\", \"pol\", \"tor\")],\n",
    "    dots=[False, True],\n",
    "    mode=[\"both\", \"color\", \"contour\"],\n",
    "    ift=[\"fft\", \"eval\"],\n",
    ");"
   ]
  }
 ],
 "metadata": {},
 "nbformat": 4,
 "nbformat_minor": 2
}
