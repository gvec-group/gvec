{
 "cells": [
  {
   "cell_type": "markdown",
   "metadata": {},
   "source": [
    "# pyGVEC output for CAS3D"
   ]
  },
  {
   "cell_type": "code",
   "execution_count": null,
   "metadata": {},
   "outputs": [],
   "source": [
    "from pathlib import Path\n",
    "\n",
    "import numpy as np\n",
    "import xarray as xr\n",
    "import matplotlib.pyplot as plt\n",
    "\n",
    "import gvec\n",
    "import gvec.fourier\n",
    "import gvec.surface"
   ]
  },
  {
   "cell_type": "code",
   "execution_count": null,
   "metadata": {},
   "outputs": [],
   "source": [
    "# run GVEC if not already done\n",
    "gvec.run(\"parameter.ini\")"
   ]
  },
  {
   "cell_type": "code",
   "execution_count": null,
   "metadata": {},
   "outputs": [],
   "source": [
    "parameterfile = Path(\"parameter.ini\")\n",
    "params = gvec.util.read_parameter_file(parameterfile)\n",
    "name = params[\"ProjectName\"]\n",
    "print(f\"Project name: {name}\")\n",
    "\n",
    "statefile = sorted(Path(\".\").glob(f\"{name}_State_*.dat\"))[-1]\n",
    "print(f\"Found statefile: {statefile}\")"
   ]
  },
  {
   "cell_type": "code",
   "execution_count": null,
   "metadata": {},
   "outputs": [],
   "source": [
    "with gvec.State(parameterfile, statefile) as state:\n",
    "    # Boozer transform\n",
    "    rho = np.linspace(0, 1.0, 21)[1:]\n",
    "    ev = gvec.EvaluationsBoozer(rho, 81, 101, state)\n",
    "\n",
    "    # Surface reparametrization\n",
    "    state.compute(ev, \"N_FP\", \"pos\")\n",
    "    surf = gvec.surface.init_surface(ev.pos, ev.N_FP, ift=\"fft\")\n",
    "    q_surf = [\n",
    "        \"xhat\",\n",
    "        \"yhat\",\n",
    "        \"zhat\",\n",
    "        \"g_tt_B\",\n",
    "        \"g_tz_B\",\n",
    "        \"g_zz_B\",\n",
    "        \"II_tt_B\",\n",
    "        \"II_tz_B\",\n",
    "        \"II_zz_B\",\n",
    "        \"k_tt_B\",\n",
    "        \"normal\",\n",
    "    ]\n",
    "    gvec.surface.compute(surf, *q_surf)\n",
    "    surf = surf[q_surf]\n",
    "\n",
    "    # Quantities of interest\n",
    "    q_out = [\n",
    "        \"N_FP\",\n",
    "        \"mod_B\",\n",
    "        \"B_contra_t_B\",\n",
    "        \"B_contra_z_B\",\n",
    "        \"B_theta_avg\",\n",
    "        \"B_zeta_avg\",\n",
    "    ]\n",
    "    state.compute(ev, *q_out)\n",
    "    ev = ev[q_out]\n",
    "\n",
    "    ds = xr.merge([ev, surf])"
   ]
  },
  {
   "cell_type": "code",
   "execution_count": null,
   "metadata": {},
   "outputs": [],
   "source": [
    "ft = gvec.fourier.ev2ft(ds)\n",
    "# ft = gvec.fourier.ft_autoremove(ft)\n",
    "print(f\"dataset uses {ft.nbytes / 1024**2:.2f} MiB\")"
   ]
  },
  {
   "cell_type": "code",
   "execution_count": null,
   "metadata": {},
   "outputs": [],
   "source": [
    "ft.attrs[\"gvec_version\"] = gvec.__version__\n",
    "ft.attrs[\"statefile\"] = statefile.name\n",
    "ft.attrs[\"state_name\"] = name\n",
    "ft.to_netcdf(f\"{name}_BoozFT.nc\")"
   ]
  },
  {
   "cell_type": "code",
   "execution_count": null,
   "metadata": {},
   "outputs": [],
   "source": [
    "ft"
   ]
  },
  {
   "cell_type": "markdown",
   "metadata": {},
   "source": [
    "# Visualize output & compare FT"
   ]
  },
  {
   "cell_type": "code",
   "execution_count": null,
   "metadata": {},
   "outputs": [],
   "source": [
    "from ipywidgets import interact, widgets"
   ]
  },
  {
   "cell_type": "code",
   "execution_count": null,
   "metadata": {},
   "outputs": [],
   "source": [
    "def plot_ds(fig, ax, ds, var, dots=True, mode=\"color\"):\n",
    "    if mode in [\"color\", \"both\"]:\n",
    "        pcm = ax.pcolormesh(ds.zeta_B, ds.theta_B, ds[var], shading=\"gouraud\")\n",
    "        fig.colorbar(pcm, ax=ax)\n",
    "    if mode == \"contour\":\n",
    "        cnt = ax.contour(ds.zeta_B, ds.theta_B, ds[var], 20)\n",
    "        fig.colorbar(cnt, ax=ax)\n",
    "    elif mode == \"both\":\n",
    "        ax.contour(ds.zeta_B, ds.theta_B, ds[var], 20, colors=\"k\", linewidths=0.5)\n",
    "\n",
    "    if dots:\n",
    "        t, z = np.meshgrid(ds.zeta_B, ds.theta_B)\n",
    "        ax.plot(t.flat, z.flat, \"k.\", ms=1)\n",
    "    ax.set(\n",
    "        title=f\"original ($n_\\\\theta={ds.theta_B.size}, n_\\\\zeta={ds.zeta_B.size}$)\",\n",
    "        xlabel=f\"${ds.zeta_B.attrs['symbol']}$\",\n",
    "        ylabel=f\"${ds.theta_B.attrs['symbol']}$\",\n",
    "    )"
   ]
  },
  {
   "cell_type": "code",
   "execution_count": null,
   "metadata": {},
   "outputs": [],
   "source": [
    "def plot_ft(fig, ax, ft, var, mode=\"color\", ift=\"fft\"):\n",
    "    nfp = ft.N_FP.item() if \"N_FP\" in ft else 1\n",
    "    t, z = (\n",
    "        np.linspace(0, 2 * np.pi, ft.m.max().item() * 2 + 1, endpoint=False),\n",
    "        np.linspace(0, 2 * np.pi / nfp, ft.n.max().item() * 2 + 1, endpoint=False),\n",
    "    )\n",
    "\n",
    "    varc = f\"{var}_mnc\"\n",
    "    vars = f\"{var}_mns\"\n",
    "    if varc in ft and vars in ft and ft[varc].dims != () and ft[vars].dims != ():\n",
    "        c, s = ft[varc].data, ft[vars].data\n",
    "    elif varc in ft and ft[varc].dims != ():\n",
    "        c, s = ft[varc].data, np.zeros_like(ft[varc].data)\n",
    "    elif vars in ft and ft[vars].dims != ():\n",
    "        c, s = np.zeros_like(ft[vars].data), ft[vars].data\n",
    "    else:\n",
    "        print(f\"no ft data for {var}\")\n",
    "        return\n",
    "\n",
    "    if ift == \"fft\":\n",
    "        data = gvec.fourier.ifft2d(c, s)\n",
    "    elif ift == \"eval\":\n",
    "        T, Z = np.meshgrid(t, z)\n",
    "        data = gvec.fourier.eval2d(c, s, T, Z, nfp=nfp).T\n",
    "    if mode == \"color\" or mode == \"both\":\n",
    "        pcm = ax.pcolormesh(z, t, data, shading=\"gouraud\")\n",
    "        fig.colorbar(pcm, ax=ax)\n",
    "    if mode == \"contour\":\n",
    "        cnt = ax.contour(z, t, data, 20)\n",
    "        fig.colorbar(cnt, ax=ax)\n",
    "    elif mode == \"both\":\n",
    "        cnt = ax.contour(z, t, data, 20, colors=\"k\", linewidths=0.5)\n",
    "    ax.set(\n",
    "        title=f\"Fourier transformed ($M={ft.m.max().item()}, N={ft.n.max().item()}$)\",\n",
    "        # ylabel=f\"${ds.theta_B.attrs['symbol']}$\",\n",
    "        xlabel=f\"${ds.zeta_B.attrs['symbol']}$\",\n",
    "    )"
   ]
  },
  {
   "cell_type": "code",
   "execution_count": null,
   "metadata": {},
   "outputs": [],
   "source": [
    "def plot(rho, var, dots, mode, ift):\n",
    "    fig, axs = plt.subplots(\n",
    "        1, 2, figsize=(10, 5), tight_layout=True, sharex=True, sharey=True\n",
    "    )\n",
    "    fig.suptitle(\n",
    "        f\"{var}: ${ds[var].attrs['symbol']}$\\n{ds[var].attrs['long_name']}\\nBoozer coordinates, one field period, $N_{{FP}}={ds['N_FP'].item()}$, $\\\\rho={rho:.3f}$\"\n",
    "    )\n",
    "    plot_ds(fig, axs[0], ds.sel(rho=rho), var, dots, mode)\n",
    "    plot_ft(fig, axs[1], ft.sel(rho=rho), var, mode, ift)\n",
    "\n",
    "\n",
    "interact(\n",
    "    plot,\n",
    "    rho=widgets.SelectionSlider(options=ds.rho.data),\n",
    "    var=[var for var in ds.data_vars if ds[var].dims == (\"rad\", \"pol\", \"tor\")],\n",
    "    dots=[False, True],\n",
    "    mode=[\"both\", \"color\", \"contour\"],\n",
    "    ift=[\"fft\", \"eval\"],\n",
    ");"
   ]
  }
 ],
 "metadata": {},
 "nbformat": 4,
 "nbformat_minor": 2
}
