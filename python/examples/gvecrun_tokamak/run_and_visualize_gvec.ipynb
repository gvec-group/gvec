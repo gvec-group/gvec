{
 "cells": [
  {
   "cell_type": "markdown",
   "metadata": {},
   "source": [
    "# pygvec example run and visualization for a tokamak\n"
   ]
  },
  {
   "cell_type": "code",
   "execution_count": null,
   "metadata": {},
   "outputs": [],
   "source": [
    "import os\n",
    "from pathlib import Path\n",
    "import contextlib\n",
    "import shutil\n",
    "\n",
    "import numpy as np\n",
    "import matplotlib.pyplot as plt\n",
    "\n",
    "# OMP number of threads for gvec run needs to be before import of gvec\n",
    "os.environ[\"OMP_NUM_THREADS\"]=\"2\"\n",
    "# needs `pip install` of gvec in virtual environment, and to be run in that environment!!!\n",
    "import gvec  # using run & modifying the parameters & postprocessing\n",
    "\n"
   ]
  },
  {
   "cell_type": "code",
   "execution_count": null,
   "metadata": {},
   "outputs": [],
   "source": [
    "@contextlib.contextmanager\n",
    "def chdir(path: Path | str):\n",
    "    \"\"\"\n",
    "    Contextmanager to change the current working directory.\n",
    "\n",
    "    Using a context has the benefit of automatically changing back to the original directory when the context is exited, even if an exception is raised.\n",
    "    \"\"\"\n",
    "    path = Path(path)\n",
    "    old_dir = Path(os.getcwd())\n",
    "\n",
    "    os.chdir(path)\n",
    "    yield\n",
    "    os.chdir(old_dir)"
   ]
  },
  {
   "cell_type": "code",
   "execution_count": null,
   "metadata": {},
   "outputs": [],
   "source": [
    "template = \"parameter.ini\"\n",
    "\n",
    "params= {}\n",
    "iota_coefs=[0.523,0.625]  # a0*s + a1\n",
    "pres_coefs=[-1.36878012275e-02,0.02] \n",
    "params[\"iota_coefs\"] = \"(/\" + \", \".join(map(str, iota_coefs[::-1])) + \"/)\"\n",
    "params[\"pres_coefs\"] = \"(/\" + \", \".join(map(str, pres_coefs[::-1])) + \"/)\"\n",
    "params[\"sgrid_nElems\"] = 5\n",
    "params[\"maxiter\"] = 1000\n",
    "\n",
    "runpath = Path(f\"run_{1:02d}\")\n",
    "if not runpath.exists():\n",
    "    runpath.mkdir()\n",
    "    print(f\"created run directory {runpath}\")\n",
    "\n",
    "gvec.util.adapt_parameter_file(template, runpath / \"parameter.ini\", **params)\n",
    "\n",
    "with chdir(runpath):\n",
    "    gvec.run(\"parameter.ini\", stdout_path=\"stdout.txt\")\n",
    "\n",
    "statefile = sorted(runpath.glob(\"*State*.dat\"))[-1]\n",
    "with gvec.State(runpath / \"parameter.ini\", statefile) as state:\n",
    "    rho = np.linspace(0, 1, 20)  # radial visualization points\n",
    "    theta = np.linspace(0, 2 * np.pi, 50)  # poloidal visualization points\n",
    "    ev = gvec.Evaluations(rho=rho, theta=theta, zeta=1, state=state)\n",
    "    state.compute(ev, \"X1\", \"X2\", \"LA\",\"iota\",\"p\")"
   ]
  },
  {
   "cell_type": "code",
   "execution_count": null,
   "metadata": {},
   "outputs": [],
   "source": [
    "fig, ax = plt.subplots(1,1,figsize=(8,4))\n",
    "\n",
    "R = ev.X1[:,:,0]\n",
    "Z = ev.X2[:,:,0]\n",
    "rho_vis = R*0 + ev.rho\n",
    "theta_vis = R*0 + ev.theta\n",
    "thetastar_vis = ev.LA[:,:,0] + ev.theta\n",
    "p_vis = R*0 + ev.p\n",
    "rho_levels_vis=np.linspace(0,1-1e-10,11)\n",
    "theta_levels_vis=np.linspace(0,2*np.pi,16,endpoint=False)\n",
    "c = ax.contourf(R,Z,p_vis)\n",
    "fig.colorbar(c, ax=ax,label=\"pressure\")\n",
    "ax.contour(R,Z,rho_vis**2,rho_levels_vis,colors=\"black\")\n",
    "ax.contour(R,Z,thetastar_vis,theta_levels_vis,colors=\"red\")\n",
    "ax.set(xlabel=\"$R$\", \n",
    "       ylabel=\"$Z$\",\n",
    "       title=\"equilibrium solution, cross-section\",\n",
    "       aspect=\"equal\",\n",
    "       xlim=[0.8*np.amin(R),1.2*np.amax(R)],\n",
    "       ylim=[1.1*np.amin(Z),1.1*np.amax(Z)]\n",
    "       )\n",
    "ax.legend(handles=[plt.Line2D([0], [0], color='black', label='$\\\\rho^2=$const.'), plt.Line2D([0], [0], color='red', label='$\\\\theta^*=$const'),])\n",
    "\n",
    "fig, ax = plt.subplots(1,2,figsize=(8,4))\n",
    "\n",
    "ax[0].plot(ev.rho**2, ev.iota)\n",
    "ax[0].set(xlabel=\"$\\\\rho^2\\sim$ tor. flux\", \n",
    "       title=\"iota profile\")\n",
    "ax[1].plot(ev.rho**2, ev.p)\n",
    "ax[1].set(xlabel=\"$\\\\rho^2\\sim$ tor. flux\", \n",
    "       title=\"pressure profile\")\n",
    "\n",
    "R_axis = R[0,0].item()\n",
    "Z_axis = Z[0,0].item()\n",
    "\n",
    "print(f\"Raxis={R_axis}, Zaxis={Z_axis}\")"
   ]
  },
  {
   "cell_type": "code",
   "execution_count": null,
   "metadata": {},
   "outputs": [],
   "source": []
  }
 ],
 "metadata": {
  "kernelspec": {
   "display_name": ".venv",
   "language": "python",
   "name": "python3"
  },
  "language_info": {
   "codemirror_mode": {
    "name": "ipython",
    "version": 3
   },
   "file_extension": ".py",
   "mimetype": "text/x-python",
   "name": "python",
   "nbconvert_exporter": "python",
   "pygments_lexer": "ipython3",
   "version": "3.10.12"
  }
 },
 "nbformat": 4,
 "nbformat_minor": 2
}
