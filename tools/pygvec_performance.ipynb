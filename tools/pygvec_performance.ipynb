{
 "cells": [
  {
   "cell_type": "markdown",
   "metadata": {},
   "source": [
    "# PYGVEC PERFORMANCE TEST"
   ]
  },
  {
   "cell_type": "code",
   "execution_count": null,
   "metadata": {},
   "outputs": [],
   "source": [
    "from pathlib import Path\n",
    "\n",
    "# replace with paths to your own data\n",
    "\n",
    "example=\"frenet_axisNB_QH_nfp7\" #hmap_axisNB\n",
    "#example=\"frenet_QH_nfp7_untwisted\" #hmap_frenet\n",
    "#example=\"w7x\"  #hmap_RZ\n",
    "#example=\"ellipstell_lowres\" #hmap_RZ\n",
    "basepath = Path(\"/home/fhinde/GIT/gvec_hmap_performance/build/run/example/\" + example)\n",
    "parameterfile = basepath / \"parameter.ini\"\n",
    "statefile = sorted(basepath.glob(\"*State*.dat\"))[-1]\n",
    "assert parameterfile.exists() and statefile.exists()"
   ]
  },
  {
   "cell_type": "code",
   "execution_count": null,
   "metadata": {},
   "outputs": [],
   "source": [
    "%%writefile profiling_run.py\n",
    "import os\n",
    "os.environ[\"OMP_NUM_THREADS\"] = \"2\"\n",
    "\n",
    "from pathlib import Path\n",
    "\n",
    "import numpy as np\n",
    "\n",
    "import gvec\n",
    "\n",
    "\n",
    "def doprof_eval(parameterfile,statefile,vars=(),nrho=10,ntheta=101,nzeta=101):\n",
    "    with gvec.State(parameterfile, statefile) as state:\n",
    "        rho = np.linspace(1e-4,1,nrho)\n",
    "        ev = gvec.Evaluations(rho, ntheta, nzeta, state=state)\n",
    "        state.compute(ev, *vars)\n",
    "    return ev\n",
    "\n",
    "def doprof_eval_boozer(parameterfile,statefile,vars=(),nrho=10,ntheta=101,nzeta=101):\n",
    "    with gvec.State(parameterfile, statefile) as state:\n",
    "        rho = np.linspace(1e-4,1,nrho)\n",
    "        ev = gvec.EvaluationsBoozer(rho, ntheta, nzeta, state=state)\n",
    "        state.compute(ev, *vars)\n",
    "    return ev"
   ]
  },
  {
   "cell_type": "code",
   "execution_count": null,
   "metadata": {},
   "outputs": [],
   "source": [
    "from profiling_run import doprof_eval\n",
    "print(f\"running example {example}\")\n",
    "%prun -l 10 ev=doprof_eval(parameterfile,statefile,vars=(\"B\",\"pos\",\"I_tor\",\"I_pol\",))"
   ]
  },
  {
   "cell_type": "code",
   "execution_count": null,
   "metadata": {},
   "outputs": [],
   "source": [
    "from profiling_run import doprof_eval \n",
    "print(f\"running example {example}\")\n",
    "%prun -l 10 ev=doprof_eval(parameterfile,statefile,vars=(\"J\",))"
   ]
  },
  {
   "cell_type": "code",
   "execution_count": null,
   "metadata": {},
   "outputs": [],
   "source": [
    "ev.to_netcdf(f\"ev_compute_{example}.nc\")"
   ]
  },
  {
   "cell_type": "code",
   "execution_count": null,
   "metadata": {},
   "outputs": [],
   "source": [
    "from profiling_run import doprof_eval_boozer\n",
    "print(f\"running example {example}\")\n",
    "%prun -l 10 ev=doprof_eval_boozer(parameterfile,statefile,vars=(\"B\",\"pos\",))"
   ]
  },
  {
   "cell_type": "code",
   "execution_count": null,
   "metadata": {},
   "outputs": [],
   "source": [
    "ev.to_netcdf(f\"ev_compute_{example}_boozer.nc\")"
   ]
  }
 ],
 "metadata": {},
 "nbformat": 4,
 "nbformat_minor": 2
}
